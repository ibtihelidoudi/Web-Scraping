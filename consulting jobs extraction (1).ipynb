{
 "cells": [
  {
   "cell_type": "code",
   "execution_count": 37,
   "id": "9b200c41",
   "metadata": {},
   "outputs": [
    {
     "name": "stdout",
     "output_type": "stream",
     "text": [
      "Requirement already satisfied: beautifulsoup4 in c:\\users\\roua othmani\\downloads\\anaconda\\lib\\site-packages (4.12.2)\n",
      "Requirement already satisfied: soupsieve>1.2 in c:\\users\\roua othmani\\downloads\\anaconda\\lib\\site-packages (from beautifulsoup4) (2.4)\n",
      "Note: you may need to restart the kernel to use updated packages.\n"
     ]
    },
    {
     "name": "stderr",
     "output_type": "stream",
     "text": [
      "\n",
      "[notice] A new release of pip is available: 23.2.1 -> 24.0\n",
      "[notice] To update, run: python.exe -m pip install --upgrade pip\n"
     ]
    }
   ],
   "source": [
    "pip install beautifulsoup4"
   ]
  },
  {
   "cell_type": "code",
   "execution_count": 38,
   "id": "9a7e628c",
   "metadata": {},
   "outputs": [
    {
     "name": "stdout",
     "output_type": "stream",
     "text": [
      "Requirement already satisfied: requests in c:\\users\\roua othmani\\downloads\\anaconda\\lib\\site-packages (2.31.0)\n",
      "Requirement already satisfied: charset-normalizer<4,>=2 in c:\\users\\roua othmani\\downloads\\anaconda\\lib\\site-packages (from requests) (2.0.4)\n",
      "Requirement already satisfied: idna<4,>=2.5 in c:\\users\\roua othmani\\downloads\\anaconda\\lib\\site-packages (from requests) (3.4)\n",
      "Requirement already satisfied: urllib3<3,>=1.21.1 in c:\\users\\roua othmani\\downloads\\anaconda\\lib\\site-packages (from requests) (1.26.16)\n",
      "Requirement already satisfied: certifi>=2017.4.17 in c:\\users\\roua othmani\\downloads\\anaconda\\lib\\site-packages (from requests) (2023.7.22)\n",
      "Note: you may need to restart the kernel to use updated packages.\n"
     ]
    },
    {
     "name": "stderr",
     "output_type": "stream",
     "text": [
      "\n",
      "[notice] A new release of pip is available: 23.2.1 -> 24.0\n",
      "[notice] To update, run: python.exe -m pip install --upgrade pip\n"
     ]
    }
   ],
   "source": [
    "pip install requests"
   ]
  },
  {
   "cell_type": "code",
   "execution_count": 39,
   "id": "adcd6d6b",
   "metadata": {},
   "outputs": [
    {
     "name": "stdout",
     "output_type": "stream",
     "text": [
      "Requirement already satisfied: selenium in c:\\users\\roua othmani\\downloads\\anaconda\\lib\\site-packages (4.20.0)\n",
      "Requirement already satisfied: urllib3[socks]<3,>=1.26 in c:\\users\\roua othmani\\downloads\\anaconda\\lib\\site-packages (from selenium) (1.26.16)\n",
      "Requirement already satisfied: trio~=0.17 in c:\\users\\roua othmani\\downloads\\anaconda\\lib\\site-packages (from selenium) (0.25.0)\n",
      "Requirement already satisfied: trio-websocket~=0.9 in c:\\users\\roua othmani\\downloads\\anaconda\\lib\\site-packages (from selenium) (0.11.1)\n",
      "Requirement already satisfied: certifi>=2021.10.8 in c:\\users\\roua othmani\\downloads\\anaconda\\lib\\site-packages (from selenium) (2023.7.22)\n",
      "Requirement already satisfied: typing_extensions>=4.9.0 in c:\\users\\roua othmani\\downloads\\anaconda\\lib\\site-packages (from selenium) (4.11.0)\n",
      "Requirement already satisfied: attrs>=23.2.0 in c:\\users\\roua othmani\\downloads\\anaconda\\lib\\site-packages (from trio~=0.17->selenium) (23.2.0)\n",
      "Requirement already satisfied: sortedcontainers in c:\\users\\roua othmani\\downloads\\anaconda\\lib\\site-packages (from trio~=0.17->selenium) (2.4.0)\n",
      "Requirement already satisfied: idna in c:\\users\\roua othmani\\downloads\\anaconda\\lib\\site-packages (from trio~=0.17->selenium) (3.4)\n",
      "Requirement already satisfied: outcome in c:\\users\\roua othmani\\downloads\\anaconda\\lib\\site-packages (from trio~=0.17->selenium) (1.3.0.post0)\n",
      "Requirement already satisfied: sniffio>=1.3.0 in c:\\users\\roua othmani\\downloads\\anaconda\\lib\\site-packages (from trio~=0.17->selenium) (1.3.1)\n",
      "Requirement already satisfied: cffi>=1.14 in c:\\users\\roua othmani\\downloads\\anaconda\\lib\\site-packages (from trio~=0.17->selenium) (1.15.1)\n",
      "Requirement already satisfied: wsproto>=0.14 in c:\\users\\roua othmani\\downloads\\anaconda\\lib\\site-packages (from trio-websocket~=0.9->selenium) (1.2.0)\n",
      "Requirement already satisfied: PySocks!=1.5.7,<2.0,>=1.5.6 in c:\\users\\roua othmani\\downloads\\anaconda\\lib\\site-packages (from urllib3[socks]<3,>=1.26->selenium) (1.7.1)\n",
      "Requirement already satisfied: pycparser in c:\\users\\roua othmani\\downloads\\anaconda\\lib\\site-packages (from cffi>=1.14->trio~=0.17->selenium) (2.21)\n",
      "Requirement already satisfied: h11<1,>=0.9.0 in c:\\users\\roua othmani\\downloads\\anaconda\\lib\\site-packages (from wsproto>=0.14->trio-websocket~=0.9->selenium) (0.14.0)\n",
      "Note: you may need to restart the kernel to use updated packages.\n"
     ]
    },
    {
     "name": "stderr",
     "output_type": "stream",
     "text": [
      "\n",
      "[notice] A new release of pip is available: 23.2.1 -> 24.0\n",
      "[notice] To update, run: python.exe -m pip install --upgrade pip\n"
     ]
    }
   ],
   "source": [
    "pip install selenium\n"
   ]
  },
  {
   "cell_type": "code",
   "execution_count": 40,
   "id": "6ffb14bd",
   "metadata": {},
   "outputs": [],
   "source": [
    "from selenium import webdriver\n",
    "from bs4 import BeautifulSoup\n",
    "import pandas as pd\n",
    "from time import sleep"
   ]
  },
  {
   "cell_type": "code",
   "execution_count": 41,
   "id": "88a93ef2",
   "metadata": {},
   "outputs": [],
   "source": [
    "# Set up Chrome options to customize the browser behavior\n",
    "options = webdriver.ChromeOptions() \n",
    "\n",
    "# Set user-agent to mimic a browser behavior\n",
    "options.add_argument('user-agent=Mozilla/5.0 (Windows NT 10.0; Win64; x64) AppleWebKit/537.36 (KHTML, like Gecko) Chrome/111.0.0.0 Safari/537.36')\n",
    "\n",
    "# Initialize a Chrome WebDriver instance with customized options\n",
    "driver = webdriver.Chrome(options=options) \n",
    "\n",
    "# URL of the webpage to scrape\n",
    "url = \"https://www.indeed.com/jobs?q=consultant&l=&from=searchOnDesktopSerp&vjk=d2916675afdc0a34\"\n",
    "\n",
    "# Open the URL in the Chrome WebDriver instance\n",
    "driver.get(url)\n",
    "\n",
    "# Sleep for 5 seconds to ensure the page loads completely before scraping\n",
    "sleep(5)\n",
    "\n",
    "# Get the HTML source code of the page after it has fully loaded\n",
    "html = driver.page_source\n",
    "\n",
    "# Parse the HTML using BeautifulSoup\n",
    "soup = BeautifulSoup(html, 'html.parser')"
   ]
  },
  {
   "cell_type": "code",
   "execution_count": 44,
   "id": "b6e6932d",
   "metadata": {},
   "outputs": [],
   "source": [
    "def get_data(job_listing):\n",
    "    # Extract job title\n",
    "    title = job_listing.find(\"a\").find(\"span\").text.strip()\n",
    "    \n",
    "    # Extract company name if available, otherwise assign an empty string\n",
    "    try:\n",
    "        company = job_listing.find('span', class_=\"css-92r8pb eu4oa1w0\").text.strip()\n",
    "    except AttributeError:\n",
    "        company = ''\n",
    "\n",
    "    # Extract job location if available, otherwise assign an empty string\n",
    "    try:\n",
    "        location = job_listing.find('div', class_='css-1p0sjhy eu4oa1w0').text.strip()\n",
    "    except AttributeError:\n",
    "        location = ''\n",
    "\n",
    "    # Extract date posted\n",
    "    try:\n",
    "        date_posted = job_listing.find('span', class_=\"css-qvloho eu4oa1w0\").text.strip()\n",
    "    except AttributeError:\n",
    "        date_posted = ''\n",
    "    \n",
    "    # Return a tuple containing all the extracted information\n",
    "    return ('consultant',title, company, location, date_posted)"
   ]
  },
  {
   "cell_type": "code",
   "execution_count": 45,
   "id": "c9cdfa8a",
   "metadata": {},
   "outputs": [],
   "source": [
    "# Define an empty list to store the extracted data\n",
    "records = []\n",
    "\n",
    "# Loop to scrape data from multiple pages until there are no more pages available\n",
    "while True:\n",
    "    try:\n",
    "        # Extract the URL of the next page if available\n",
    "        url = 'https://ng.indeed.com/' + soup.find('a', {'aria-label':'Next Page'}).get('href')\n",
    "    except AttributeError:\n",
    "        # If there are no more pages available, break the loop\n",
    "        break\n",
    "    \n",
    "    # Open the next page in the browser\n",
    "    driver.get(url)\n",
    "    \n",
    "    # Get the HTML source code of the next page\n",
    "    html = driver.page_source\n",
    "    \n",
    "    # Parse the HTML of the next page using BeautifulSoup\n",
    "    soup = BeautifulSoup(html, 'html.parser')\n",
    "    \n",
    "    # Find all job listings on the next page\n",
    "    job_listings = soup.find_all('div', class_='job_seen_beacon') \n",
    "\n",
    "    # Iterate through each job listing on the page\n",
    "    for job_listing in job_listings:\n",
    "        # Extract data from the current job listing\n",
    "        record = get_data(job_listing)\n",
    "        \n",
    "        # Append the extracted data to the records list\n",
    "        records.append(record)\n",
    "\n",
    "# Close the Chrome WebDriver instance\n",
    "driver.quit()\n"
   ]
  },
  {
   "cell_type": "code",
   "execution_count": 46,
   "id": "54ff41df",
   "metadata": {},
   "outputs": [
    {
     "name": "stdout",
     "output_type": "stream",
     "text": [
      "Data saved to consulting_job.csv\n"
     ]
    }
   ],
   "source": [
    "# Convert list of records into a DataFrame\n",
    "df = pd.DataFrame(records, columns=['ID','Title', 'Company', 'Location','Date Posted'])\n",
    "\n",
    "# Save DataFrame to an csv file\n",
    "df.to_csv('consulting_job.csv', index=False)\n",
    "\n",
    "print(\"Data saved to consulting_job.csv\")"
   ]
  },
  {
   "cell_type": "code",
   "execution_count": 47,
   "id": "3981d137",
   "metadata": {},
   "outputs": [
    {
     "data": {
      "text/html": [
       "<div>\n",
       "<style scoped>\n",
       "    .dataframe tbody tr th:only-of-type {\n",
       "        vertical-align: middle;\n",
       "    }\n",
       "\n",
       "    .dataframe tbody tr th {\n",
       "        vertical-align: top;\n",
       "    }\n",
       "\n",
       "    .dataframe thead th {\n",
       "        text-align: right;\n",
       "    }\n",
       "</style>\n",
       "<table border=\"1\" class=\"dataframe\">\n",
       "  <thead>\n",
       "    <tr style=\"text-align: right;\">\n",
       "      <th></th>\n",
       "      <th>ID</th>\n",
       "      <th>Title</th>\n",
       "      <th>Company</th>\n",
       "      <th>Location</th>\n",
       "      <th>Date Posted</th>\n",
       "    </tr>\n",
       "  </thead>\n",
       "  <tbody>\n",
       "    <tr>\n",
       "      <th>0</th>\n",
       "      <td>consultant</td>\n",
       "      <td>Information Security Advisor</td>\n",
       "      <td>Trustwave</td>\n",
       "      <td>Plateau</td>\n",
       "      <td>PostedPosted 30+ days ago</td>\n",
       "    </tr>\n",
       "    <tr>\n",
       "      <th>1</th>\n",
       "      <td>consultant</td>\n",
       "      <td>Consultant - Program Engagements Consultant - ...</td>\n",
       "      <td>Mercy Corps</td>\n",
       "      <td>Abuja</td>\n",
       "      <td>PostedPosted 30+ days ago</td>\n",
       "    </tr>\n",
       "    <tr>\n",
       "      <th>2</th>\n",
       "      <td>consultant</td>\n",
       "      <td>HR &amp; Administration Officer</td>\n",
       "      <td>Save the Children</td>\n",
       "      <td>Adamawa</td>\n",
       "      <td>PostedPosted 20 days ago</td>\n",
       "    </tr>\n",
       "    <tr>\n",
       "      <th>3</th>\n",
       "      <td>consultant</td>\n",
       "      <td>Management Consultant (MC), Digital Technology</td>\n",
       "      <td>Phillips Consulting NG</td>\n",
       "      <td>Lagos</td>\n",
       "      <td>PostedPosted 5 days ago</td>\n",
       "    </tr>\n",
       "    <tr>\n",
       "      <th>4</th>\n",
       "      <td>consultant</td>\n",
       "      <td>Junior Admin / Clerical and Customer Service M...</td>\n",
       "      <td>Elkins Marine Training International Nigeria...</td>\n",
       "      <td>Imo</td>\n",
       "      <td>PostedPosted 11 days ago</td>\n",
       "    </tr>\n",
       "    <tr>\n",
       "      <th>...</th>\n",
       "      <td>...</td>\n",
       "      <td>...</td>\n",
       "      <td>...</td>\n",
       "      <td>...</td>\n",
       "      <td>...</td>\n",
       "    </tr>\n",
       "    <tr>\n",
       "      <th>357</th>\n",
       "      <td>consultant</td>\n",
       "      <td>Dispatch Rider</td>\n",
       "      <td>Inter Arc Consultant Limited Benin City</td>\n",
       "      <td>Benin City</td>\n",
       "      <td>EmployerActive 11 days ago</td>\n",
       "    </tr>\n",
       "    <tr>\n",
       "      <th>358</th>\n",
       "      <td>consultant</td>\n",
       "      <td>Chemistry Teacher Needed-Okota,Lagos</td>\n",
       "      <td>Molly Distinct Consult</td>\n",
       "      <td>Lagos</td>\n",
       "      <td>EmployerActive 3 days ago</td>\n",
       "    </tr>\n",
       "    <tr>\n",
       "      <th>359</th>\n",
       "      <td>consultant</td>\n",
       "      <td>Microsoft Business Applications Sales Consultant</td>\n",
       "      <td>ITC WORLDWIDE</td>\n",
       "      <td>Lagos</td>\n",
       "      <td>PostedPosted 30+ days ago</td>\n",
       "    </tr>\n",
       "    <tr>\n",
       "      <th>360</th>\n",
       "      <td>consultant</td>\n",
       "      <td>HR Senior Manager</td>\n",
       "      <td>mDoc Healthcare</td>\n",
       "      <td>Lagos</td>\n",
       "      <td>EmployerActive 3 days ago</td>\n",
       "    </tr>\n",
       "    <tr>\n",
       "      <th>361</th>\n",
       "      <td>consultant</td>\n",
       "      <td>Secondary School English/Literature teacher</td>\n",
       "      <td>Employment Consultants</td>\n",
       "      <td>Port Harcourt</td>\n",
       "      <td>EmployerActive 2 days ago</td>\n",
       "    </tr>\n",
       "  </tbody>\n",
       "</table>\n",
       "<p>362 rows × 5 columns</p>\n",
       "</div>"
      ],
      "text/plain": [
       "             ID                                              Title  \\\n",
       "0    consultant                       Information Security Advisor   \n",
       "1    consultant  Consultant - Program Engagements Consultant - ...   \n",
       "2    consultant                        HR & Administration Officer   \n",
       "3    consultant     Management Consultant (MC), Digital Technology   \n",
       "4    consultant  Junior Admin / Clerical and Customer Service M...   \n",
       "..          ...                                                ...   \n",
       "357  consultant                                     Dispatch Rider   \n",
       "358  consultant               Chemistry Teacher Needed-Okota,Lagos   \n",
       "359  consultant   Microsoft Business Applications Sales Consultant   \n",
       "360  consultant                                  HR Senior Manager   \n",
       "361  consultant        Secondary School English/Literature teacher   \n",
       "\n",
       "                                             Company       Location  \\\n",
       "0                                          Trustwave        Plateau   \n",
       "1                                        Mercy Corps          Abuja   \n",
       "2                                  Save the Children        Adamawa   \n",
       "3                             Phillips Consulting NG          Lagos   \n",
       "4    Elkins Marine Training International Nigeria...            Imo   \n",
       "..                                               ...            ...   \n",
       "357          Inter Arc Consultant Limited Benin City     Benin City   \n",
       "358                           Molly Distinct Consult          Lagos   \n",
       "359                                    ITC WORLDWIDE          Lagos   \n",
       "360                                  mDoc Healthcare          Lagos   \n",
       "361                           Employment Consultants  Port Harcourt   \n",
       "\n",
       "                    Date Posted  \n",
       "0     PostedPosted 30+ days ago  \n",
       "1     PostedPosted 30+ days ago  \n",
       "2      PostedPosted 20 days ago  \n",
       "3       PostedPosted 5 days ago  \n",
       "4      PostedPosted 11 days ago  \n",
       "..                          ...  \n",
       "357  EmployerActive 11 days ago  \n",
       "358   EmployerActive 3 days ago  \n",
       "359   PostedPosted 30+ days ago  \n",
       "360   EmployerActive 3 days ago  \n",
       "361   EmployerActive 2 days ago  \n",
       "\n",
       "[362 rows x 5 columns]"
      ]
     },
     "metadata": {},
     "output_type": "display_data"
    }
   ],
   "source": [
    "display(df)"
   ]
  },
  {
   "cell_type": "code",
   "execution_count": null,
   "id": "e077ed83",
   "metadata": {},
   "outputs": [],
   "source": []
  }
 ],
 "metadata": {
  "kernelspec": {
   "display_name": "Python 3 (ipykernel)",
   "language": "python",
   "name": "python3"
  },
  "language_info": {
   "codemirror_mode": {
    "name": "ipython",
    "version": 3
   },
   "file_extension": ".py",
   "mimetype": "text/x-python",
   "name": "python",
   "nbconvert_exporter": "python",
   "pygments_lexer": "ipython3",
   "version": "3.11.5"
  }
 },
 "nbformat": 4,
 "nbformat_minor": 5
}
